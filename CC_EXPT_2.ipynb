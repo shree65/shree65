{
  "nbformat": 4,
  "nbformat_minor": 0,
  "metadata": {
    "colab": {
      "provenance": [],
      "authorship_tag": "ABX9TyO0H2RGX6uvGVY15t46dH19",
      "include_colab_link": true
    },
    "kernelspec": {
      "name": "python3",
      "display_name": "Python 3"
    },
    "language_info": {
      "name": "python"
    }
  },
  "cells": [
    {
      "cell_type": "markdown",
      "metadata": {
        "id": "view-in-github",
        "colab_type": "text"
      },
      "source": [
        "<a href=\"https://colab.research.google.com/github/shree65/shree65/blob/main/CC_EXPT_2.ipynb\" target=\"_parent\"><img src=\"https://colab.research.google.com/assets/colab-badge.svg\" alt=\"Open In Colab\"/></a>"
      ]
    },
    {
      "cell_type": "code",
      "execution_count": 3,
      "metadata": {
        "colab": {
          "base_uri": "https://localhost:8080/"
        },
        "id": "dai1EscN4Xdy",
        "outputId": "4cd7dbb3-3828-4b7c-b329-ffd73c9fd6c1"
      },
      "outputs": [
        {
          "output_type": "stream",
          "name": "stdout",
          "text": [
            "2\n",
            "4\n",
            "sum is : 6\n",
            "Diffrence is : -2\n",
            "multiplication is : 8\n",
            "division is : 0.5\n"
          ]
        }
      ],
      "source": [
        "a = int(input())\n",
        "b = int(input())\n",
        "sum = a+b\n",
        "print(\"sum is :\",sum)\n",
        "diff  = a-b\n",
        "print(\"Diffrence is :\",diff)\n",
        "mul = a*b\n",
        "print(\"multiplication is :\",mul)\n",
        "div = a/b\n",
        "print(\"division is :\",div)"
      ]
    }
  ]
}